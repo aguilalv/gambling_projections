{
 "cells": [
  {
   "cell_type": "markdown",
   "metadata": {},
   "source": [
    "## To-Dos"
   ]
  },
  {
   "cell_type": "markdown",
   "metadata": {},
   "source": [
    "- Add override capaility\n",
    "- Add Covid19 scenarios"
   ]
  },
  {
   "cell_type": "code",
   "execution_count": null,
   "metadata": {},
   "outputs": [],
   "source": []
  },
  {
   "cell_type": "code",
   "execution_count": null,
   "metadata": {},
   "outputs": [],
   "source": []
  },
  {
   "cell_type": "code",
   "execution_count": 1,
   "metadata": {},
   "outputs": [],
   "source": [
    "import pandas as pd\n",
    "import numpy as np\n",
    "\n",
    "from sklearn import linear_model\n",
    "from sklearn.metrics import mean_squared_error, r2_score\n",
    "\n",
    "from matplotlib import pyplot as plt\n",
    "import seaborn as sns\n",
    "\n",
    "import humanize\n",
    "\n",
    "sns.set_style('white')\n",
    "%matplotlib inline"
   ]
  },
  {
   "cell_type": "code",
   "execution_count": 2,
   "metadata": {},
   "outputs": [],
   "source": [
    "axis_color = \"0.4\"\n",
    "non_accent_light = \"#dbdbdb\"\n",
    "non_accent_medium = \"#bdbdbd\"\n",
    "non_accent_dark = \"#a8a8a8\"\n",
    "accent = \"#4599ff\"\n",
    "palette = sns.color_palette([non_accent_medium,accent])"
   ]
  },
  {
   "cell_type": "code",
   "execution_count": 3,
   "metadata": {},
   "outputs": [],
   "source": [
    "def format_chart_axes(title,axes,x_label_format='{:,.1f}',x_label_scale=1,y_label_format='{:,.1f}',y_label_scale=1,color=\"black\"):\n",
    "    plt.title(title,y=1.05, color=color)\n",
    "\n",
    "    axes.set_xticks(axes.get_xticks().tolist()) # REMOVE IN THE FUTURE - PLACED TO AVOID WARNING - IT IS A BUG FROM MATPLOTLIB 3.3.1\n",
    "    axes.set_xticklabels([x_label_format.format(x) for x in (axes.get_xticks()/x_label_scale).tolist()])\n",
    "    \n",
    "    axes.set_yticks(axes.get_yticks().tolist()) # REMOVE IN THE FUTURE - PLACED TO AVOID WARNING - IT IS A BUG FROM MATPLOTLIB 3.3.1\n",
    "    axes.set_yticklabels([y_label_format.format(x) for x in (axes.get_yticks()/y_label_scale).tolist()])\n",
    "\n",
    "    axes.spines['bottom'].set_color(color)\n",
    "    axes.xaxis.label.set_color(color)\n",
    "    axes.tick_params(axis='x', colors=color)\n",
    "\n",
    "    axes.spines['left'].set_color(color)\n",
    "    axes.yaxis.label.set_color(color)\n",
    "    axes.tick_params(axis='y', colors=color)\n",
    "\n",
    "    sns.despine()    "
   ]
  },
  {
   "cell_type": "markdown",
   "metadata": {},
   "source": [
    "## Data processing"
   ]
  },
  {
   "cell_type": "code",
   "execution_count": 70,
   "metadata": {},
   "outputs": [],
   "source": [
    "econ_df = pd.DataFrame()\n",
    "gambling_df = pd.DataFrame()\n",
    "tnl_df  = pd.DataFrame()\n",
    "hist_df = pd.DataFrame()"
   ]
  },
  {
   "cell_type": "code",
   "execution_count": 71,
   "metadata": {},
   "outputs": [],
   "source": [
    "# Collect and organise GDP historical data - Source ONS\n",
    "\n",
    "temp = pd.read_csv('./data/ABMI-290920.csv')\n",
    "\n",
    "temp = temp[temp['Title'].str.isnumeric()]\n",
    "\n",
    "temp.columns = ['year','GDP']\n",
    "\n",
    "temp['GDP'] = pd.to_numeric(temp['GDP'])\n",
    "temp['year'] = pd.to_numeric(temp['year'])\n",
    "#temp['GDP growth'] = temp['GDP'].pct_change()\n",
    "\n",
    "temp.index = temp['year']\n",
    "temp = temp.drop('year',axis=1)\n",
    "\n",
    "econ_df = pd.concat([econ_df,temp],join='outer',axis=1)"
   ]
  },
  {
   "cell_type": "code",
   "execution_count": 72,
   "metadata": {},
   "outputs": [],
   "source": [
    "# Collect and organise Disposable Income historical data - Source ONS\n",
    "\n",
    "temp = pd.read_csv('./data/QWND-290920.csv')\n",
    "\n",
    "temp = temp[temp['Title'].str.isnumeric()]\n",
    "\n",
    "temp.columns = ['year','disposable income']\n",
    "\n",
    "temp['disposable income'] = pd.to_numeric(temp['disposable income'])\n",
    "temp['year'] = pd.to_numeric(temp['year'])\n",
    "#temp['disposable income growth'] = temp['disposable income'].pct_change()\n",
    "\n",
    "temp.index = temp['year']\n",
    "temp = temp.drop('year',axis=1)\n",
    "\n",
    "econ_df = pd.concat([econ_df,temp],join='outer',axis=1)"
   ]
  },
  {
   "cell_type": "code",
   "execution_count": 73,
   "metadata": {},
   "outputs": [],
   "source": [
    "# Collect and organise historical market and TNL data\n",
    "\n",
    "temp = pd.read_csv('./data/marketdata.csv')\n",
    "temp.index = temp['Year']\n",
    "temp = temp.drop('Year',axis=1)\n",
    "\n",
    "\n",
    "gambling_df = pd.concat(\n",
    "    [gambling_df,\n",
    "     temp[[\n",
    "        'Gambling GGY',\n",
    "        'Total gambling participation']].loc[:2019]\n",
    "    ]\n",
    ")\n",
    "\n",
    "gambling_df.columns = [\n",
    "    'gambling GGY',\n",
    "    'gambling players']\n",
    "\n",
    "        \n",
    "tnl_df = pd.concat(\n",
    "    [tnl_df,\n",
    "     temp[['TNL GGY',\n",
    "           'TNL participation']].loc[:2019]\n",
    "    ]\n",
    ")\n",
    "\n",
    "tnl_df.columns = [\n",
    "    'TNL GGY', \n",
    "    'TNL players']"
   ]
  },
  {
   "cell_type": "code",
   "execution_count": 74,
   "metadata": {},
   "outputs": [],
   "source": [
    "hist_df = pd.merge(\n",
    "        econ_df,\n",
    "        gambling_df,\n",
    "        left_index=True,\n",
    "        right_index=True,\n",
    "        how='outer',\n",
    ")\n",
    "\n",
    "hist_df = pd.merge(\n",
    "        hist_df,\n",
    "        tnl_df,\n",
    "        left_index=True,\n",
    "        right_index=True,\n",
    "        how='outer',\n",
    ")\n",
    "\n",
    "hist_df.index = hist_df.index.set_names('year')"
   ]
  },
  {
   "cell_type": "markdown",
   "metadata": {
    "cell_style": "center",
    "heading_collapsed": true
   },
   "source": [
    "## Model 1: TNL GGY projected based on Gambling market and TNL market share\n",
    "#### Monte carlo simulation"
   ]
  },
  {
   "cell_type": "code",
   "execution_count": 81,
   "metadata": {
    "hidden": true
   },
   "outputs": [],
   "source": [
    "iterations = 750\n",
    "years_to_project = 10\n",
    "initial_year = 2020"
   ]
  },
  {
   "cell_type": "code",
   "execution_count": 82,
   "metadata": {
    "hidden": true
   },
   "outputs": [],
   "source": [
    "GDP_yoy_change_mean = 0.024383720592148272        #Historical average of YoY growth in the period from 1956 to 2019\n",
    "GDP_yoy_change_stdev = 0.020191051459338794     #Historical stdev of YoY growth in the period from 1956 to 2019\n",
    "\n"
   ]
  },
  {
   "cell_type": "code",
   "execution_count": 83,
   "metadata": {
    "hidden": true
   },
   "outputs": [],
   "source": [
    "projections_df = pd.DataFrame()\n",
    "\n",
    "for n in range(iterations):\n",
    "    # Empty temporary dataframe to populate with this iteration and then append to projections dataframe\n",
    "    tmp_df = pd.DataFrame()\n",
    "\n",
    "    # Generate normally distributed values of input variables for this iteration\n",
    "    projected_GDP_growth = np.random.normal(GDP_yoy_change_mean, GDP_yoy_change_stdev, years_to_project)\n",
    "\n",
    "    # Initialise years to project for this iteration\n",
    "    tmp_df['year'] = np.arange(initial_year,initial_year+years_to_project)\n",
    "\n",
    "    # Before applying growth projected variables = last historical value\n",
    "    tmp_df['GDP'] = hist_df.loc[initial_year-1]['GDP']\n",
    "    \n",
    "    #Calculate yearly growth factors (YOY_change + 1)\n",
    "    GDP_growth_factor = pd.Series(projected_GDP_growth + 1)\n",
    "\n",
    "    # Apply growth to every year (e.g. get year 4 by applying to initial value the growth factors for years 1, 2 and 3)\n",
    "    for i in range(years_to_project):\n",
    "        tmp_df['GDP'] = tmp_df['GDP'] * GDP_growth_factor.shift(i,fill_value=1)\n",
    "\n",
    "    # Calculate variables in the rest of the model using inputs calculated for this iteration\n",
    "    tmp_df['disposable income'] = (-575967.8405697127 + (tmp_df['GDP'] * 0.914156951026817))\n",
    "    \n",
    "    # Append results for this iteration in the projections dataframe\n",
    "    projections_df = pd.concat([tmp_df,projections_df])\n",
    "    \n",
    "# Set the years as the index of the projections dataframe\n",
    "projections_df.index = projections_df['year']"
   ]
  },
  {
   "cell_type": "markdown",
   "metadata": {
    "cell_style": "center",
    "heading_collapsed": true
   },
   "source": [
    "## Model 2: TNL GGY projected based on GDP and TNL % of Disp. Income%\n",
    "#### Monte carlo simulation"
   ]
  },
  {
   "cell_type": "code",
   "execution_count": 9,
   "metadata": {
    "hidden": true
   },
   "outputs": [],
   "source": [
    "iterations = 750\n",
    "years_to_project = 10\n",
    "initial_year = 2020"
   ]
  },
  {
   "cell_type": "code",
   "execution_count": 10,
   "metadata": {
    "hidden": true
   },
   "outputs": [],
   "source": [
    "GDP_yoy_change_mean = 0.024383720592148272        #Historical average of YoY growth in the period from 1956 to 2019\n",
    "GDP_yoy_change_stdev = 0.020191051459338794     #Historical stdev of YoY growth in the period from 1956 to 2019\n",
    "\n",
    "TNL_shareDI_yoy_change_mean = 0.0003997407239658791\n",
    "TNL_shareDI_yoy_change_stdev = 0.06419624024568973"
   ]
  },
  {
   "cell_type": "code",
   "execution_count": 11,
   "metadata": {
    "hidden": true
   },
   "outputs": [],
   "source": [
    "projections_df = pd.DataFrame()\n",
    "\n",
    "for n in range(iterations):\n",
    "    # Empty temporary dataframe to populate with this iteration and then append to projections dataframe\n",
    "    tmp_df = pd.DataFrame()\n",
    "\n",
    "    # Generate normally distributed values of input variables for this iteration\n",
    "    projected_GDP_growth = np.random.normal(GDP_yoy_change_mean, GDP_yoy_change_stdev, years_to_project)\n",
    "    projected_tnl_share_growth = np.random.normal(TNL_shareDI_yoy_change_mean, TNL_shareDI_yoy_change_stdev, years_to_project)\n",
    "\n",
    "    # Initialise years to project for this iteration\n",
    "    tmp_df['year'] = np.arange(initial_year,initial_year+years_to_project)\n",
    "\n",
    "    # Before applying growth projected variables = last historical value\n",
    "    tmp_df['GDP'] = hist_df.loc[initial_year-1]['GDP']\n",
    "    tmp_df['TNL share'] = hist_df.loc[initial_year-1]['TNL GGY'] / hist_df.loc[initial_year-1]['disposable income']\n",
    "    \n",
    "    #Calculate yearly growth factors (YOY_change + 1)\n",
    "    GDP_growth_factor = pd.Series(projected_GDP_growth + 1)\n",
    "    tnl_share_growth_factor = pd.Series(projected_tnl_share_growth + 1)\n",
    "\n",
    "    # Apply growth to every year (e.g. get year 4 by applying to initial value the growth factors for years 1, 2 and 3)\n",
    "    for i in range(years_to_project):\n",
    "        tmp_df['GDP'] = tmp_df['GDP'] * GDP_growth_factor.shift(i,fill_value=1)\n",
    "        tmp_df['TNL share'] = tmp_df['TNL share'] * tnl_share_growth_factor.shift(i,fill_value=1)\n",
    "\n",
    "    # Calculate variables in the rest of the model using inputs calculated for this iteration\n",
    "    tmp_df['disposable income'] = (-575967.8405697127 + (tmp_df['GDP'] * 0.914156951026817))\n",
    "    tmp_df['TNL GGY'] = tmp_df['disposable income'] * tmp_df['TNL share']\n",
    "    \n",
    "    # Append results for this iteration in the projections dataframe\n",
    "    projections_df = pd.concat([tmp_df,projections_df])\n",
    "    \n",
    "# Set the years as the index of the projections dataframe\n",
    "projections_df.index = projections_df['year']"
   ]
  },
  {
   "cell_type": "markdown",
   "metadata": {
    "heading_collapsed": true
   },
   "source": [
    "## Sandbox"
   ]
  },
  {
   "cell_type": "markdown",
   "metadata": {
    "heading_collapsed": true,
    "hidden": true
   },
   "source": [
    "### Tutorial example of a regression model using scikit-learn"
   ]
  },
  {
   "cell_type": "code",
   "execution_count": 12,
   "metadata": {
    "hidden": true
   },
   "outputs": [],
   "source": [
    "from sklearn import datasets, linear_model\n",
    "from sklearn.metrics import mean_squared_error, r2_score"
   ]
  },
  {
   "cell_type": "code",
   "execution_count": 13,
   "metadata": {
    "hidden": true
   },
   "outputs": [],
   "source": [
    "diabetes_X, diabetes_y = datasets.load_diabetes(return_X_y=True)\n",
    "diabetes_X = diabetes_X[:, np.newaxis, 2]"
   ]
  },
  {
   "cell_type": "code",
   "execution_count": 14,
   "metadata": {
    "hidden": true
   },
   "outputs": [],
   "source": [
    "diabetes_X_train = diabetes_X[:-20]\n",
    "diabetes_X_test = diabetes_X[-20:]\n",
    "diabetes_y_train = diabetes_y[:-20]\n",
    "diabetes_y_test = diabetes_y[-20:]"
   ]
  },
  {
   "cell_type": "code",
   "execution_count": 15,
   "metadata": {
    "hidden": true
   },
   "outputs": [],
   "source": [
    "regr = linear_model.LinearRegression()"
   ]
  },
  {
   "cell_type": "code",
   "execution_count": 16,
   "metadata": {
    "hidden": true
   },
   "outputs": [
    {
     "data": {
      "text/plain": [
       "LinearRegression()"
      ]
     },
     "execution_count": 16,
     "metadata": {},
     "output_type": "execute_result"
    }
   ],
   "source": [
    "regr.fit(diabetes_X_train,diabetes_y_train)"
   ]
  },
  {
   "cell_type": "code",
   "execution_count": 17,
   "metadata": {
    "hidden": true
   },
   "outputs": [],
   "source": [
    "diabetes_y_predict = regr.predict(diabetes_X_test)"
   ]
  },
  {
   "cell_type": "code",
   "execution_count": 18,
   "metadata": {
    "hidden": true
   },
   "outputs": [
    {
     "data": {
      "text/plain": [
       "array([938.23786125])"
      ]
     },
     "execution_count": 18,
     "metadata": {},
     "output_type": "execute_result"
    }
   ],
   "source": [
    "regr.coef_"
   ]
  },
  {
   "cell_type": "code",
   "execution_count": 19,
   "metadata": {
    "cell_style": "split",
    "hidden": true
   },
   "outputs": [
    {
     "data": {
      "text/plain": [
       "2548.0723987259694"
      ]
     },
     "execution_count": 19,
     "metadata": {},
     "output_type": "execute_result"
    }
   ],
   "source": [
    "mean_squared_error(diabetes_y_test,diabetes_y_predict)"
   ]
  },
  {
   "cell_type": "code",
   "execution_count": 20,
   "metadata": {
    "cell_style": "split",
    "hidden": true
   },
   "outputs": [
    {
     "data": {
      "text/plain": [
       "0.47257544798227147"
      ]
     },
     "execution_count": 20,
     "metadata": {},
     "output_type": "execute_result"
    }
   ],
   "source": [
    "r2_score(diabetes_y_test,diabetes_y_predict)"
   ]
  },
  {
   "cell_type": "code",
   "execution_count": 21,
   "metadata": {
    "hidden": true
   },
   "outputs": [
    {
     "data": {
      "text/plain": [
       "[<matplotlib.lines.Line2D at 0x7f96bd975f98>]"
      ]
     },
     "execution_count": 21,
     "metadata": {},
     "output_type": "execute_result"
    },
    {
     "data": {
      "image/png": "[encoded data removed]",
      "text/plain": [
       "<Figure size 432x288 with 1 Axes>"
      ]
     },
     "metadata": {
      "needs_background": "light"
     },
     "output_type": "display_data"
    }
   ],
   "source": [
    "plt.scatter(diabetes_X_test, diabetes_y_test,  color='black')\n",
    "plt.plot(diabetes_X_test, diabetes_y_predict, color='blue', linewidth=3)"
   ]
  },
  {
   "cell_type": "markdown",
   "metadata": {
    "heading_collapsed": true,
    "hidden": true
   },
   "source": [
    "### Regression of historical GDP vs Disposable Income"
   ]
  },
  {
   "cell_type": "code",
   "execution_count": 28,
   "metadata": {
    "hidden": true
   },
   "outputs": [],
   "source": [
    "regr = linear_model.LinearRegression()"
   ]
  },
  {
   "cell_type": "code",
   "execution_count": 60,
   "metadata": {
    "hidden": true
   },
   "outputs": [
    {
     "data": {
      "text/plain": [
       "LinearRegression()"
      ]
     },
     "execution_count": 60,
     "metadata": {},
     "output_type": "execute_result"
    }
   ],
   "source": [
    "regr.fit(econ_df.loc[:]['GDP'].to_numpy().reshape(-1,1),econ_df.loc[:]['disposable income'])"
   ]
  },
  {
   "cell_type": "code",
   "execution_count": 61,
   "metadata": {
    "hidden": true
   },
   "outputs": [],
   "source": [
    "disp_income_predict = regr.predict(econ_df['GDP'].to_numpy().reshape(-1,1))"
   ]
  },
  {
   "cell_type": "code",
   "execution_count": 62,
   "metadata": {
    "cell_style": "split",
    "hidden": true
   },
   "outputs": [
    {
     "data": {
      "image/png": "[encoded data removed]",
      "text/plain": [
       "<Figure size 432x288 with 1 Axes>"
      ]
     },
     "metadata": {
      "needs_background": "light"
     },
     "output_type": "display_data"
    }
   ],
   "source": [
    "#plt.scatter(econ_df['GDP'].to_numpy().reshape(-1,1),econ_df['disposable income'],color='black')\n",
    "#plt.plot(econ_df['GDP'].to_numpy().reshape(-1,1), disp_income_predict, color='blue', linewidth=3)\n",
    "\n",
    "sns.scatterplot(x=econ_df['GDP'],\n",
    "                y=econ_df['disposable income'],\n",
    "                color=non_accent_dark)\n",
    "ax = sns.lineplot(x=econ_df['GDP'],\n",
    "             y=disp_income_predict,\n",
    "            color=accent)\n",
    "\n",
    "format_chart_axes(\"Disposable Income vs. GDP\",\n",
    "                  ax,\n",
    "                  x_label_scale=1000000,\n",
    "                  x_label_format='{:,.1f}tn',\n",
    "                  y_label_scale=1000000,\n",
    "                  y_label_format='{:,.1f}tn',\n",
    "                  color=axis_color)"
   ]
  },
  {
   "cell_type": "code",
   "execution_count": 63,
   "metadata": {
    "cell_style": "split",
    "hidden": true
   },
   "outputs": [],
   "source": [
    "r2 = round(r2_score(econ_df['disposable income'],disp_income_predict),2)\n",
    "intercept = humanize.intcomma(regr.intercept_,1)\n",
    "coefficient = humanize.intcomma(regr.coef_[0],2)"
   ]
  },
  {
   "cell_type": "code",
   "execution_count": 64,
   "metadata": {
    "cell_style": "split",
    "hidden": true
   },
   "outputs": [
    {
     "data": {
      "text/plain": [
       "'-575,967.8'"
      ]
     },
     "execution_count": 64,
     "metadata": {},
     "output_type": "execute_result"
    }
   ],
   "source": [
    "intercept"
   ]
  },
  {
   "cell_type": "code",
   "execution_count": 65,
   "metadata": {
    "cell_style": "split",
    "hidden": true
   },
   "outputs": [
    {
     "data": {
      "text/plain": [
       "'0.91'"
      ]
     },
     "execution_count": 65,
     "metadata": {},
     "output_type": "execute_result"
    }
   ],
   "source": [
    "coefficient"
   ]
  },
  {
   "cell_type": "code",
   "execution_count": 66,
   "metadata": {
    "cell_style": "split",
    "hidden": true
   },
   "outputs": [
    {
     "data": {
      "text/plain": [
       "0.97"
      ]
     },
     "execution_count": 66,
     "metadata": {},
     "output_type": "execute_result"
    }
   ],
   "source": [
    "r2"
   ]
  },
  {
   "cell_type": "markdown",
   "metadata": {
    "hidden": true
   },
   "source": [
    "### Historical behaviour: GDP YoY change"
   ]
  },
  {
   "cell_type": "code",
   "execution_count": 27,
   "metadata": {
    "hidden": true
   },
   "outputs": [
    {
     "ename": "NameError",
     "evalue": "name 'GDP_mean' is not defined",
     "output_type": "error",
     "traceback": [
      "\u001b[0;31m---------------------------------------------------------------------------\u001b[0m",
      "\u001b[0;31mNameError\u001b[0m                                 Traceback (most recent call last)",
      "\u001b[0;32m<ipython-input-27-158114dfd71b>\u001b[0m in \u001b[0;36m<module>\u001b[0;34m\u001b[0m\n\u001b[0;32m----> 1\u001b[0;31m \u001b[0mused\u001b[0m \u001b[0;34m=\u001b[0m \u001b[0mnp\u001b[0m\u001b[0;34m.\u001b[0m\u001b[0mrandom\u001b[0m\u001b[0;34m.\u001b[0m\u001b[0mnormal\u001b[0m\u001b[0;34m(\u001b[0m\u001b[0mGDP_mean\u001b[0m\u001b[0;34m,\u001b[0m \u001b[0mGDP_std_dev\u001b[0m\u001b[0;34m,\u001b[0m \u001b[0;36m500\u001b[0m\u001b[0;34m)\u001b[0m\u001b[0;34m\u001b[0m\u001b[0;34m\u001b[0m\u001b[0m\n\u001b[0m",
      "\u001b[0;31mNameError\u001b[0m: name 'GDP_mean' is not defined"
     ]
    }
   ],
   "source": [
    "used = np.random.normal(GDP_mean, GDP_std_dev, 500)"
   ]
  },
  {
   "cell_type": "code",
   "execution_count": null,
   "metadata": {
    "cell_style": "split",
    "hidden": true,
    "scrolled": true
   },
   "outputs": [],
   "source": [
    "ax = sns.kdeplot(np.random.normal(GDP_mean, GDP_std_dev, 25000),\n",
    "                  color=accent)\n",
    "ax = sns.histplot(hist_df['GDP'].pct_change(),\n",
    "                  bins=15,\n",
    "                  color=non_accent_dark)\n",
    "format_chart_axes(\"GDP YoY change - Distribution 1956-2019\",\n",
    "                  ax,\n",
    "                  x_label_format='{:,.1%}',\n",
    "                  y_label_format='{:,.0f}',\n",
    "                  color=axis_color)"
   ]
  },
  {
   "cell_type": "code",
   "execution_count": null,
   "metadata": {
    "cell_style": "split",
    "hidden": true
   },
   "outputs": [],
   "source": [
    "gdp_yoy_change_mean = '{:.2%}'.format(hist_df['GDP'].pct_change().mean())"
   ]
  },
  {
   "cell_type": "code",
   "execution_count": null,
   "metadata": {
    "cell_style": "split",
    "hidden": true,
    "scrolled": true
   },
   "outputs": [],
   "source": [
    "gdp_yoy_change_stdev = '{:.2%}'.format(hist_df['GDP'].pct_change().std())"
   ]
  },
  {
   "cell_type": "markdown",
   "metadata": {
    "cell_style": "split",
    "hidden": true,
    "variables": {
     "gdp_yoy_change_mean": "2.44%",
     "gdp_yoy_change_stdev": "2.02%"
    }
   },
   "source": [
    "##### GDP YoY change historical behaviour (1956-2019)\n",
    "\n",
    "Average YoY GDP change {{gdp_yoy_change_mean}}\n",
    "\n",
    "Yoy GDP change Standard Deviation {{gdp_yoy_change_stdev}}"
   ]
  },
  {
   "cell_type": "markdown",
   "metadata": {
    "hidden": true
   },
   "source": [
    "### Historical behaviour: TNL share of disposable income YoY change"
   ]
  },
  {
   "cell_type": "code",
   "execution_count": 76,
   "metadata": {
    "hidden": true
   },
   "outputs": [],
   "source": [
    "hist_df.tail(12)\n",
    "tnl_shareDI = hist_df['TNL GGY']/hist_df['disposable income']\n",
    "tnl_shareDI_yoy_change_mean = tnl_shareDI.pct_change().mean()\n",
    "tnl_shareDI_yoy_change_stdev = tnl_shareDI.pct_change().std()\n"
   ]
  },
  {
   "cell_type": "code",
   "execution_count": 78,
   "metadata": {
    "hidden": true
   },
   "outputs": [
    {
     "data": {
      "text/plain": [
       "0.0003997407239658791"
      ]
     },
     "execution_count": 78,
     "metadata": {},
     "output_type": "execute_result"
    }
   ],
   "source": [
    "tnl_shareDI_yoy_change_mean"
   ]
  },
  {
   "cell_type": "markdown",
   "metadata": {
    "hidden": true
   },
   "source": [
    "### Test"
   ]
  },
  {
   "cell_type": "code",
   "execution_count": 79,
   "metadata": {
    "hidden": true
   },
   "outputs": [
    {
     "data": {
      "text/plain": [
       "<AxesSubplot:xlabel='TNL GGY'>"
      ]
     },
     "execution_count": 79,
     "metadata": {},
     "output_type": "execute_result"
    },
    {
     "data": {
      "image/png": "[encoded data removed]",
      "text/plain": [
       "<Figure size 432x288 with 1 Axes>"
      ]
     },
     "metadata": {
      "needs_background": "light"
     },
     "output_type": "display_data"
    }
   ],
   "source": [
    "sns.boxplot(x=projections_df.loc[2028]['TNL GGY'],color=non_accent_medium)"
   ]
  },
  {
   "cell_type": "code",
   "execution_count": 80,
   "metadata": {
    "hidden": true
   },
   "outputs": [
    {
     "data": {
      "text/plain": [
       "[Text(0.5, 0, '')]"
      ]
     },
     "execution_count": 80,
     "metadata": {},
     "output_type": "execute_result"
    },
    {
     "data": {
      "image/png": "[encoded data removed]",
      "text/plain": [
       "<Figure size 432x288 with 4 Axes>"
      ]
     },
     "metadata": {
      "needs_background": "light"
     },
     "output_type": "display_data"
    }
   ],
   "source": [
    "#Cut the window in 2 parts\n",
    "f, (ax_hist1, ax_box1, ax_box2, ax_hist2) = plt.subplots(4, sharex=True, gridspec_kw={\"height_ratios\": (.85, .15, .15, .85)})\n",
    " \n",
    "# Add a graph in each part\n",
    "sns.boxplot(x=projections_df.loc[2028]['TNL GGY'],color=non_accent_medium, ax=ax_box1)\n",
    "sns.histplot(x=projections_df.loc[2028]['TNL GGY'],color=non_accent_medium, ax=ax_hist1)\n",
    "sns.boxplot(x=projections_df.loc[2028]['TNL GGY'],color=non_accent_medium, ax=ax_box2)\n",
    "sns.histplot(x=projections_df.loc[2028]['TNL GGY'],color=non_accent_medium, ax=ax_hist2)\n",
    "\n",
    "\n",
    "# Remove x axis name for the boxplot\n",
    "ax_box1.set(xlabel='')\n",
    "ax_box2.set(xlabel='')"
   ]
  },
  {
   "cell_type": "code",
   "execution_count": null,
   "metadata": {
    "hidden": true
   },
   "outputs": [],
   "source": [
    "projections_df.loc[2028]['TNL GGY'].describe()"
   ]
  },
  {
   "cell_type": "markdown",
   "metadata": {
    "hidden": true
   },
   "source": [
    "count     750.000000\n",
    "mean     4138.199088\n",
    "std       829.323633\n",
    "min      2209.756714\n",
    "25%      3525.595487\n",
    "50%      4087.380672\n",
    "75%      4669.786221\n",
    "max      7069.350202\n",
    "Name: TNL GGY, dtype: float64"
   ]
  },
  {
   "cell_type": "code",
   "execution_count": null,
   "metadata": {
    "hidden": true
   },
   "outputs": [],
   "source": []
  }
 ],
 "metadata": {
  "hide_input": false,
  "kernelspec": {
   "display_name": "Python 3",
   "language": "python",
   "name": "python3"
  },
  "language_info": {
   "codemirror_mode": {
    "name": "ipython",
    "version": 3
   },
   "file_extension": ".py",
   "mimetype": "text/x-python",
   "name": "python",
   "nbconvert_exporter": "python",
   "pygments_lexer": "ipython3",
   "version": "3.7.3"
  }
 },
 "nbformat": 4,
 "nbformat_minor": 4
}

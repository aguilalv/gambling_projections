{
 "cells": [
  {
   "cell_type": "markdown",
   "metadata": {},
   "source": [
    "## To-Dos"
   ]
  },
  {
   "cell_type": "markdown",
   "metadata": {},
   "source": [
    "- Add override capaility\n",
    "- Add Covid19 scenarios\n",
    "- Adjust population to be adult population"
   ]
  },
  {
   "cell_type": "code",
   "execution_count": null,
   "metadata": {},
   "outputs": [],
   "source": []
  },
  {
   "cell_type": "code",
   "execution_count": null,
   "metadata": {},
   "outputs": [],
   "source": []
  },
  {
   "cell_type": "code",
   "execution_count": 1,
   "metadata": {},
   "outputs": [],
   "source": [
    "import pandas as pd\n",
    "import numpy as np\n",
    "\n",
    "from sklearn import linear_model\n",
    "from sklearn.metrics import mean_squared_error, r2_score\n",
    "\n",
    "from matplotlib import pyplot as plt\n",
    "import seaborn as sns\n",
    "\n",
    "import humanize\n",
    "\n",
    "sns.set_style('white')\n",
    "%matplotlib inline"
   ]
  },
  {
   "cell_type": "code",
   "execution_count": 2,
   "metadata": {},
   "outputs": [],
   "source": [
    "axis_color = \"0.4\"\n",
    "non_accent_light = \"#dbdbdb\"\n",
    "non_accent_medium = \"#bdbdbd\"\n",
    "non_accent_dark = \"#a8a8a8\"\n",
    "accent = \"#4599ff\"\n",
    "palette = sns.color_palette([non_accent_medium,accent])"
   ]
  },
  {
   "cell_type": "code",
   "execution_count": 3,
   "metadata": {},
   "outputs": [],
   "source": [
    "def format_chart_axes(title,axes,x_label_format='{:,.1f}',x_label_scale=1,y_label_format='{:,.1f}',y_label_scale=1,color=\"black\"):\n",
    "    plt.title(title,y=1.05, color=color)\n",
    "\n",
    "    axes.set_xticks(axes.get_xticks().tolist()) # REMOVE IN THE FUTURE - PLACED TO AVOID WARNING - IT IS A BUG FROM MATPLOTLIB 3.3.1\n",
    "    axes.set_xticklabels([x_label_format.format(x) for x in (axes.get_xticks()/x_label_scale).tolist()])\n",
    "    \n",
    "    axes.set_yticks(axes.get_yticks().tolist()) # REMOVE IN THE FUTURE - PLACED TO AVOID WARNING - IT IS A BUG FROM MATPLOTLIB 3.3.1\n",
    "    axes.set_yticklabels([y_label_format.format(x) for x in (axes.get_yticks()/y_label_scale).tolist()])\n",
    "\n",
    "    axes.spines['bottom'].set_color(color)\n",
    "    axes.xaxis.label.set_color(color)\n",
    "    axes.tick_params(axis='x', colors=color)\n",
    "\n",
    "    axes.spines['left'].set_color(color)\n",
    "    axes.yaxis.label.set_color(color)\n",
    "    axes.tick_params(axis='y', colors=color)\n",
    "\n",
    "    sns.despine()    "
   ]
  },
  {
   "cell_type": "markdown",
   "metadata": {},
   "source": [
    "## Data processing"
   ]
  },
  {
   "cell_type": "code",
   "execution_count": 40,
   "metadata": {},
   "outputs": [],
   "source": [
    "econ_df = pd.DataFrame()\n",
    "gambling_df = pd.DataFrame()\n",
    "tnl_df  = pd.DataFrame()\n",
    "hist_df = pd.DataFrame()"
   ]
  },
  {
   "cell_type": "code",
   "execution_count": 41,
   "metadata": {},
   "outputs": [],
   "source": [
    "# Collect and organise GDP historical data - Source ONS\n",
    "\n",
    "temp = pd.read_csv('./data/ABMI-290920.csv')\n",
    "\n",
    "temp = temp[temp['Title'].str.isnumeric()]\n",
    "\n",
    "temp.columns = ['year','GDP']\n",
    "\n",
    "temp['GDP'] = pd.to_numeric(temp['GDP'])\n",
    "temp['year'] = pd.to_numeric(temp['year'])\n",
    "\n",
    "temp.index = temp['year']\n",
    "temp = temp.drop('year',axis=1)\n",
    "\n",
    "econ_df = pd.concat([econ_df,temp],join='outer',axis=1)"
   ]
  },
  {
   "cell_type": "code",
   "execution_count": 42,
   "metadata": {},
   "outputs": [],
   "source": [
    "# Collect and organise Disposable Income historical data - Source ONS\n",
    "\n",
    "temp = pd.read_csv('./data/QWND-290920.csv')\n",
    "\n",
    "temp = temp[temp['Title'].str.isnumeric()]\n",
    "\n",
    "temp.columns = ['year','disposable income']\n",
    "\n",
    "temp['disposable income'] = pd.to_numeric(temp['disposable income'])\n",
    "temp['year'] = pd.to_numeric(temp['year'])\n",
    "#temp['disposable income growth'] = temp['disposable income'].pct_change()\n",
    "\n",
    "temp.index = temp['year']\n",
    "temp = temp.drop('year',axis=1)\n",
    "\n",
    "econ_df = pd.concat([econ_df,temp],join='outer',axis=1)"
   ]
  },
  {
   "cell_type": "code",
   "execution_count": 43,
   "metadata": {},
   "outputs": [],
   "source": [
    "# Collect and organise Population historical data - Source ONS (Series: UKPOP)\n",
    "# https://www.ons.gov.uk/peoplepopulationandcommunity/populationandmigration/populationestimates/timeseries/ukpop/pop\n",
    "\n",
    "temp = pd.read_csv('./data/UKPOP-051020.csv')\n",
    "\n",
    "temp = temp[temp['Title'].str.isnumeric()]\n",
    "\n",
    "temp.columns = ['year','population']\n",
    "\n",
    "temp['population'] = pd.to_numeric(temp['population'])/1000000\n",
    "temp['year'] = pd.to_numeric(temp['year'])\n",
    "\n",
    "temp.index = temp['year']\n",
    "temp = temp.drop('year',axis=1)\n",
    "\n",
    "econ_df = pd.concat([econ_df,temp],join='outer',axis=1)"
   ]
  },
  {
   "cell_type": "code",
   "execution_count": 44,
   "metadata": {},
   "outputs": [],
   "source": [
    "# Collect and organise historical market and TNL data\n",
    "\n",
    "temp = pd.read_csv('./data/marketdata.csv')\n",
    "temp.index = temp['Year']\n",
    "temp = temp.drop('Year',axis=1)\n",
    "\n",
    "\n",
    "gambling_df = pd.concat(\n",
    "    [gambling_df,\n",
    "     temp[[\n",
    "        'Gambling GGY',\n",
    "        'Total gambling participation',\n",
    "        'Agree that gambling is conducted fairly and can be trusted - All respondents',]].loc[:2019]\n",
    "    ]\n",
    ")\n",
    "\n",
    "gambling_df.columns = [\n",
    "    'gambling GGY',\n",
    "    'gambling players',\n",
    "    'trust gambling']\n",
    "\n",
    "        \n",
    "tnl_df = pd.concat(\n",
    "    [tnl_df,\n",
    "     temp[['TNL GGY',\n",
    "           'TNL participation']].loc[:2019]\n",
    "    ]\n",
    ")\n",
    "\n",
    "tnl_df.columns = [\n",
    "    'TNL GGY', \n",
    "    'TNL players']"
   ]
  },
  {
   "cell_type": "code",
   "execution_count": 45,
   "metadata": {},
   "outputs": [],
   "source": [
    "hist_df = pd.merge(\n",
    "        econ_df,\n",
    "        gambling_df,\n",
    "        left_index=True,\n",
    "        right_index=True,\n",
    "        how='outer',\n",
    ")\n",
    "\n",
    "hist_df = pd.merge(\n",
    "        hist_df,\n",
    "        tnl_df,\n",
    "        left_index=True,\n",
    "        right_index=True,\n",
    "        how='outer',\n",
    ")\n",
    "\n",
    "hist_df.index = hist_df.index.set_names('year')"
   ]
  },
  {
   "cell_type": "markdown",
   "metadata": {
    "cell_style": "center"
   },
   "source": [
    "## Model 1: TNL GGY projected based on Gambling market and TNL market share\n",
    "#### Monte carlo simulation"
   ]
  },
  {
   "cell_type": "code",
   "execution_count": 119,
   "metadata": {},
   "outputs": [],
   "source": [
    "iterations = 750\n",
    "years_to_project = 10\n",
    "initial_year = 2020"
   ]
  },
  {
   "cell_type": "code",
   "execution_count": 120,
   "metadata": {},
   "outputs": [],
   "source": [
    "GDP_yoy_change_mean = 0.024383720592148272                    #Historical average of YoY growth in the period from 1956 to 2019\n",
    "GDP_yoy_change_stdev = 0.020191051459338794                   #Historical stdev of YoY growth in the period from 1956 to 2019\n",
    "\n",
    "population_yoy_change_mean = 0.003710395926661239\n",
    "population_yoy_change_stdev = 0.00277374704172441\n",
    "\n",
    "gambling_share_disposable_income_yoy_change_mean = -0.007      # Management judgement\n",
    "gambling_share_disposable_income_yoy_change_stdev = 0.05312    #Historical stdev of YoY growth in the period from 2008 to 2019\n",
    "\n",
    "trust_yoy_change_mean = -0.05164731382916463                   # Historical average of YoY growth in the period 2010 to 2019\n",
    "trust_yoy_change_stdev = 0.0531155458747519                    # Historical stdev of YoY growth in the period 2010 to 2019\n",
    "\n",
    "TNL_share_yoy_change_mean = 0.008682024533135794\n",
    "TNL_share_yoy_change_stdev = 0.10145771199583832\n"
   ]
  },
  {
   "cell_type": "code",
   "execution_count": 121,
   "metadata": {},
   "outputs": [],
   "source": [
    "projections_m1_df = pd.DataFrame()\n",
    "\n",
    "for n in range(iterations):\n",
    "    # Empty temporary dataframe to populate with this iteration and then append to projections dataframe\n",
    "    tmp_df = pd.DataFrame()\n",
    "\n",
    "    # Generate normally distributed values of input variables for this iteration\n",
    "    projected_GDP_growth = np.random.normal(GDP_yoy_change_mean, GDP_yoy_change_stdev, years_to_project)\n",
    "    projected_population_growth = np.random.normal(population_yoy_change_mean, population_yoy_change_stdev, years_to_project)\n",
    "    projected_gambling_share_disposable_income_growth = np.random.normal(gambling_share_disposable_income_yoy_change_mean, gambling_share_disposable_income_yoy_change_stdev, years_to_project)    \n",
    "    projected_trust_growth = np.random.normal(trust_yoy_change_mean, trust_yoy_change_stdev, years_to_project)\n",
    "    projected_TNL_share_growth = np.random.normal(TNL_share_yoy_change_mean, TNL_share_yoy_change_stdev, years_to_project)    \n",
    "    \n",
    "    # Initialise years to project for this iteration\n",
    "    tmp_df['year'] = np.arange(initial_year,initial_year+years_to_project)\n",
    "\n",
    "    # Before applying growth projected variables = last historical value\n",
    "    tmp_df['GDP'] = hist_df.loc[initial_year-1]['GDP']\n",
    "    tmp_df['population'] = hist_df.loc[initial_year-1]['population']\n",
    "    avg_spend_per_player_ini = hist_df.loc[initial_year-1]['gambling GGY'] / hist_df.loc[initial_year-1]['gambling players']\n",
    "    disposable_income_per_capita_ini = hist_df.loc[initial_year-1]['disposable income'] / hist_df.loc[initial_year-1]['population']\n",
    "    tmp_df['gambling share disposable income'] = avg_spend_per_player_ini / disposable_income_per_capita_ini\n",
    "    tmp_df['trust gambling'] = hist_df.loc[initial_year-1]['trust gambling']\n",
    "    tmp_df['TNL share'] = hist_df.loc[initial_year-1]['TNL GGY'] / hist_df.loc[initial_year-1]['gambling GGY']   \n",
    "    \n",
    "    #Calculate yearly growth factors (YOY_change + 1)\n",
    "    GDP_growth_factor = pd.Series(projected_GDP_growth + 1)\n",
    "    population_growth_factor = pd.Series(projected_population_growth + 1)\n",
    "    gambling_share_disposable_income_growth_factor = pd.Series(projected_gambling_share_disposable_income_growth + 1)\n",
    "    trust_growth_factor = pd.Series(projected_trust_growth + 1)\n",
    "    TNL_share_growth_factor = pd.Series(projected_TNL_share_growth + 1)    \n",
    "    \n",
    "    # Apply growth to every year (e.g. get year 4 by applying to initial value the growth factors for years 1, 2 and 3)\n",
    "    for i in range(years_to_project):\n",
    "        tmp_df['GDP'] *= GDP_growth_factor.shift(i,fill_value=1)\n",
    "        tmp_df['population'] *= population_growth_factor.shift(i,fill_value=1)\n",
    "        tmp_df['gambling share disposable income'] *= gambling_share_disposable_income_growth_factor.shift(i,fill_value=1)\n",
    "        tmp_df['trust gambling'] *= trust_growth_factor.shift(i,fill_value=1)\n",
    "        tmp_df['TNL share'] *= TNL_share_growth_factor.shift(i,fill_value=1)        \n",
    "        \n",
    "    # Calculate variables in the rest of the model using inputs calculated for this iteration\n",
    "    tmp_df['disposable income'] = (-1076261.5191325496 + (tmp_df['GDP'] * 1.2199441172482208))\n",
    "    tmp_df['disposable income per capita'] = tmp_df['disposable income']/ tmp_df['population']\n",
    "    tmp_df['gambling GGY per player'] = tmp_df['disposable income per capita'] * tmp_df['gambling share disposable income']\n",
    "    tmp_df['gambling players'] = (0.30607425709282937 + ( tmp_df['trust gambling'] * 0.5589693711039558)) * tmp_df['population']\n",
    "    tmp_df['gambling GGY'] = tmp_df['gambling players'] * tmp_df['gambling GGY per player']\n",
    "    tmp_df['TNL GGY'] = tmp_df['gambling GGY'] * tmp_df['TNL share']    \n",
    "\n",
    "    \n",
    "    # Append results for this iteration in the projections dataframe\n",
    "    projections_m1_df = pd.concat([tmp_df,projections_m1_df])\n",
    "    \n",
    "# Set the years as the index of the projections dataframe\n",
    "projections_m1_df.index = projections_m1_df['year']"
   ]
  },
  {
   "cell_type": "code",
   "execution_count": 122,
   "metadata": {},
   "outputs": [
    {
     "data": {
      "text/html": [
       "<div>\n",
       "<style scoped>\n",
       "    .dataframe tbody tr th:only-of-type {\n",
       "        vertical-align: middle;\n",
       "    }\n",
       "\n",
       "    .dataframe tbody tr th {\n",
       "        vertical-align: top;\n",
       "    }\n",
       "\n",
       "    .dataframe thead th {\n",
       "        text-align: right;\n",
       "    }\n",
       "</style>\n",
       "<table border=\"1\" class=\"dataframe\">\n",
       "  <thead>\n",
       "    <tr style=\"text-align: right;\">\n",
       "      <th></th>\n",
       "      <th>year</th>\n",
       "      <th>GDP</th>\n",
       "      <th>population</th>\n",
       "      <th>gambling share disposable income</th>\n",
       "      <th>trust gambling</th>\n",
       "      <th>TNL share</th>\n",
       "      <th>disposable income</th>\n",
       "      <th>disposable income per capita</th>\n",
       "      <th>gambling GGY per player</th>\n",
       "      <th>gambling players</th>\n",
       "      <th>gambling GGY</th>\n",
       "      <th>TNL GGY</th>\n",
       "    </tr>\n",
       "    <tr>\n",
       "      <th>year</th>\n",
       "      <th></th>\n",
       "      <th></th>\n",
       "      <th></th>\n",
       "      <th></th>\n",
       "      <th></th>\n",
       "      <th></th>\n",
       "      <th></th>\n",
       "      <th></th>\n",
       "      <th></th>\n",
       "      <th></th>\n",
       "      <th></th>\n",
       "      <th></th>\n",
       "    </tr>\n",
       "  </thead>\n",
       "  <tbody>\n",
       "    <tr>\n",
       "      <th>2020</th>\n",
       "      <td>2020</td>\n",
       "      <td>2.186538e+06</td>\n",
       "      <td>67.429791</td>\n",
       "      <td>0.021799</td>\n",
       "      <td>0.265069</td>\n",
       "      <td>0.189249</td>\n",
       "      <td>1.591193e+06</td>\n",
       "      <td>23597.773512</td>\n",
       "      <td>514.405929</td>\n",
       "      <td>30.629287</td>\n",
       "      <td>15755.886593</td>\n",
       "      <td>2981.780891</td>\n",
       "    </tr>\n",
       "    <tr>\n",
       "      <th>2021</th>\n",
       "      <td>2021</td>\n",
       "      <td>2.260342e+06</td>\n",
       "      <td>67.733677</td>\n",
       "      <td>0.020225</td>\n",
       "      <td>0.264492</td>\n",
       "      <td>0.214451</td>\n",
       "      <td>1.681230e+06</td>\n",
       "      <td>24821.177310</td>\n",
       "      <td>501.998901</td>\n",
       "      <td>30.745496</td>\n",
       "      <td>15434.205351</td>\n",
       "      <td>3309.883849</td>\n",
       "    </tr>\n",
       "    <tr>\n",
       "      <th>2022</th>\n",
       "      <td>2022</td>\n",
       "      <td>2.320841e+06</td>\n",
       "      <td>68.254335</td>\n",
       "      <td>0.021214</td>\n",
       "      <td>0.223411</td>\n",
       "      <td>0.231735</td>\n",
       "      <td>1.755035e+06</td>\n",
       "      <td>25713.162562</td>\n",
       "      <td>545.468388</td>\n",
       "      <td>29.414487</td>\n",
       "      <td>16044.673041</td>\n",
       "      <td>3718.108859</td>\n",
       "    </tr>\n",
       "  </tbody>\n",
       "</table>\n",
       "</div>"
      ],
      "text/plain": [
       "      year           GDP  population  gambling share disposable income  \\\n",
       "year                                                                     \n",
       "2020  2020  2.186538e+06   67.429791                          0.021799   \n",
       "2021  2021  2.260342e+06   67.733677                          0.020225   \n",
       "2022  2022  2.320841e+06   68.254335                          0.021214   \n",
       "\n",
       "      trust gambling  TNL share  disposable income  \\\n",
       "year                                                 \n",
       "2020        0.265069   0.189249       1.591193e+06   \n",
       "2021        0.264492   0.214451       1.681230e+06   \n",
       "2022        0.223411   0.231735       1.755035e+06   \n",
       "\n",
       "      disposable income per capita  gambling GGY per player  gambling players  \\\n",
       "year                                                                            \n",
       "2020                  23597.773512               514.405929         30.629287   \n",
       "2021                  24821.177310               501.998901         30.745496   \n",
       "2022                  25713.162562               545.468388         29.414487   \n",
       "\n",
       "      gambling GGY      TNL GGY  \n",
       "year                             \n",
       "2020  15755.886593  2981.780891  \n",
       "2021  15434.205351  3309.883849  \n",
       "2022  16044.673041  3718.108859  "
      ]
     },
     "execution_count": 122,
     "metadata": {},
     "output_type": "execute_result"
    }
   ],
   "source": [
    "projections_m1_df.head(3)\n",
    "\n"
   ]
  },
  {
   "cell_type": "code",
   "execution_count": 123,
   "metadata": {},
   "outputs": [
    {
     "data": {
      "text/html": [
       "<div>\n",
       "<style scoped>\n",
       "    .dataframe tbody tr th:only-of-type {\n",
       "        vertical-align: middle;\n",
       "    }\n",
       "\n",
       "    .dataframe tbody tr th {\n",
       "        vertical-align: top;\n",
       "    }\n",
       "\n",
       "    .dataframe thead th {\n",
       "        text-align: right;\n",
       "    }\n",
       "</style>\n",
       "<table border=\"1\" class=\"dataframe\">\n",
       "  <thead>\n",
       "    <tr style=\"text-align: right;\">\n",
       "      <th></th>\n",
       "      <th>GDP</th>\n",
       "      <th>disposable income</th>\n",
       "      <th>population</th>\n",
       "      <th>gambling GGY</th>\n",
       "      <th>gambling players</th>\n",
       "      <th>trust gambling</th>\n",
       "      <th>TNL GGY</th>\n",
       "      <th>TNL players</th>\n",
       "    </tr>\n",
       "    <tr>\n",
       "      <th>year</th>\n",
       "      <th></th>\n",
       "      <th></th>\n",
       "      <th></th>\n",
       "      <th></th>\n",
       "      <th></th>\n",
       "      <th></th>\n",
       "      <th></th>\n",
       "      <th></th>\n",
       "    </tr>\n",
       "  </thead>\n",
       "  <tbody>\n",
       "    <tr>\n",
       "      <th>2018</th>\n",
       "      <td>2060494</td>\n",
       "      <td>1452493</td>\n",
       "      <td>66.4356</td>\n",
       "      <td>14329.38870</td>\n",
       "      <td>32.088924</td>\n",
       "      <td>0.30</td>\n",
       "      <td>3078.279571</td>\n",
       "      <td>23.683126</td>\n",
       "    </tr>\n",
       "    <tr>\n",
       "      <th>2019</th>\n",
       "      <td>2090632</td>\n",
       "      <td>1489473</td>\n",
       "      <td>66.7968</td>\n",
       "      <td>14449.05424</td>\n",
       "      <td>32.520366</td>\n",
       "      <td>0.29</td>\n",
       "      <td>3425.289279</td>\n",
       "      <td>32.439218</td>\n",
       "    </tr>\n",
       "  </tbody>\n",
       "</table>\n",
       "</div>"
      ],
      "text/plain": [
       "          GDP  disposable income  population  gambling GGY  gambling players  \\\n",
       "year                                                                           \n",
       "2018  2060494            1452493     66.4356   14329.38870         32.088924   \n",
       "2019  2090632            1489473     66.7968   14449.05424         32.520366   \n",
       "\n",
       "      trust gambling      TNL GGY  TNL players  \n",
       "year                                            \n",
       "2018            0.30  3078.279571    23.683126  \n",
       "2019            0.29  3425.289279    32.439218  "
      ]
     },
     "execution_count": 123,
     "metadata": {},
     "output_type": "execute_result"
    }
   ],
   "source": [
    "hist_df.loc[2018:2019]"
   ]
  },
  {
   "cell_type": "markdown",
   "metadata": {
    "cell_style": "center"
   },
   "source": [
    "## Model 2: TNL GGY projected based on GDP and TNL % of Disp. Income%\n",
    "#### Monte carlo simulation"
   ]
  },
  {
   "cell_type": "code",
   "execution_count": 124,
   "metadata": {},
   "outputs": [],
   "source": [
    "iterations = 750\n",
    "years_to_project = 10\n",
    "initial_year = 2020"
   ]
  },
  {
   "cell_type": "code",
   "execution_count": 125,
   "metadata": {},
   "outputs": [],
   "source": [
    "GDP_yoy_change_mean = 0.024383720592148272        #Historical average of YoY growth in the period from 1956 to 2019\n",
    "GDP_yoy_change_stdev = 0.020191051459338794     #Historical stdev of YoY growth in the period from 1956 to 2019\n",
    "\n",
    "TNL_shareDI_yoy_change_mean = 0.0003997407239658791\n",
    "TNL_shareDI_yoy_change_stdev = 0.06419624024568973"
   ]
  },
  {
   "cell_type": "code",
   "execution_count": 126,
   "metadata": {},
   "outputs": [],
   "source": [
    "projections_df = pd.DataFrame()\n",
    "\n",
    "for n in range(iterations):\n",
    "    # Empty temporary dataframe to populate with this iteration and then append to projections dataframe\n",
    "    tmp_df = pd.DataFrame()\n",
    "\n",
    "    # Generate normally distributed values of input variables for this iteration\n",
    "    projected_GDP_growth = np.random.normal(GDP_yoy_change_mean, GDP_yoy_change_stdev, years_to_project)\n",
    "    projected_tnl_share_growth = np.random.normal(TNL_shareDI_yoy_change_mean, TNL_shareDI_yoy_change_stdev, years_to_project)\n",
    "\n",
    "    # Initialise years to project for this iteration\n",
    "    tmp_df['year'] = np.arange(initial_year,initial_year+years_to_project)\n",
    "\n",
    "    # Before applying growth projected variables = last historical value\n",
    "    tmp_df['GDP'] = hist_df.loc[initial_year-1]['GDP']\n",
    "    tmp_df['TNL share'] = hist_df.loc[initial_year-1]['TNL GGY'] / hist_df.loc[initial_year-1]['disposable income']\n",
    "    \n",
    "    #Calculate yearly growth factors (YOY_change + 1)\n",
    "    GDP_growth_factor = pd.Series(projected_GDP_growth + 1)\n",
    "    tnl_share_growth_factor = pd.Series(projected_tnl_share_growth + 1)\n",
    "\n",
    "    # Apply growth to every year (e.g. get year 4 by applying to initial value the growth factors for years 1, 2 and 3)\n",
    "    for i in range(years_to_project):\n",
    "        tmp_df['GDP'] = tmp_df['GDP'] * GDP_growth_factor.shift(i,fill_value=1)\n",
    "        tmp_df['TNL share'] = tmp_df['TNL share'] * tnl_share_growth_factor.shift(i,fill_value=1)\n",
    "\n",
    "    # Calculate variables in the rest of the model using inputs calculated for this iteration\n",
    "    tmp_df['disposable income'] = (-1076261.5191325496 + (tmp_df['GDP'] * 1.2199441172482208))\n",
    "    tmp_df['TNL GGY'] = tmp_df['disposable income'] * tmp_df['TNL share']\n",
    "    \n",
    "    # Append results for this iteration in the projections dataframe\n",
    "    projections_df = pd.concat([tmp_df,projections_df])\n",
    "    \n",
    "# Set the years as the index of the projections dataframe\n",
    "projections_df.index = projections_df['year']"
   ]
  },
  {
   "cell_type": "markdown",
   "metadata": {},
   "source": [
    "## Sandbox"
   ]
  },
  {
   "cell_type": "markdown",
   "metadata": {
    "heading_collapsed": true
   },
   "source": [
    "### Regression of historical GDP vs Disposable Income"
   ]
  },
  {
   "cell_type": "code",
   "execution_count": 16,
   "metadata": {
    "hidden": true
   },
   "outputs": [],
   "source": [
    "regr = linear_model.LinearRegression()"
   ]
  },
  {
   "cell_type": "code",
   "execution_count": 98,
   "metadata": {
    "hidden": true
   },
   "outputs": [
    {
     "data": {
      "text/plain": [
       "LinearRegression()"
      ]
     },
     "execution_count": 98,
     "metadata": {},
     "output_type": "execute_result"
    }
   ],
   "source": [
    "regr.fit(econ_df.loc[2008:2019]['GDP'].to_numpy().reshape(-1,1),econ_df.loc[2008:2019]['disposable income'])"
   ]
  },
  {
   "cell_type": "code",
   "execution_count": 99,
   "metadata": {
    "hidden": true
   },
   "outputs": [],
   "source": [
    "disp_income_predict = regr.predict(econ_df['GDP'].to_numpy().reshape(-1,1))"
   ]
  },
  {
   "cell_type": "code",
   "execution_count": 100,
   "metadata": {
    "cell_style": "split",
    "hidden": true
   },
   "outputs": [
    {
     "data": {
      "image/png": "[encoded data removed]",
      "text/plain": [
       "<Figure size 432x288 with 1 Axes>"
      ]
     },
     "metadata": {
      "needs_background": "light"
     },
     "output_type": "display_data"
    }
   ],
   "source": [
    "#plt.scatter(econ_df['GDP'].to_numpy().reshape(-1,1),econ_df['disposable income'],color='black')\n",
    "#plt.plot(econ_df['GDP'].to_numpy().reshape(-1,1), disp_income_predict, color='blue', linewidth=3)\n",
    "\n",
    "sns.scatterplot(x=econ_df['GDP'],\n",
    "                y=econ_df['disposable income'],\n",
    "                color=non_accent_dark)\n",
    "ax = sns.lineplot(x=econ_df['GDP'],\n",
    "             y=disp_income_predict,\n",
    "            color=accent)\n",
    "\n",
    "format_chart_axes(\"Disposable Income vs. GDP\",\n",
    "                  ax,\n",
    "                  x_label_scale=1000000,\n",
    "                  x_label_format='{:,.1f}tn',\n",
    "                  y_label_scale=1000000,\n",
    "                  y_label_format='{:,.1f}tn',\n",
    "                  color=axis_color)"
   ]
  },
  {
   "cell_type": "code",
   "execution_count": 101,
   "metadata": {
    "cell_style": "split",
    "hidden": true
   },
   "outputs": [],
   "source": [
    "r2 = round(r2_score(econ_df['disposable income'],disp_income_predict),2)\n",
    "intercept = humanize.intcomma(regr.intercept_,1)\n",
    "coefficient = humanize.intcomma(regr.coef_[0],2)"
   ]
  },
  {
   "cell_type": "code",
   "execution_count": 105,
   "metadata": {
    "cell_style": "split",
    "hidden": true
   },
   "outputs": [
    {
     "data": {
      "text/plain": [
       "-1076261.5191325496"
      ]
     },
     "execution_count": 105,
     "metadata": {},
     "output_type": "execute_result"
    }
   ],
   "source": [
    "regr.intercept_"
   ]
  },
  {
   "cell_type": "code",
   "execution_count": 106,
   "metadata": {
    "cell_style": "split",
    "hidden": true
   },
   "outputs": [
    {
     "data": {
      "text/plain": [
       "1.2199441172482208"
      ]
     },
     "execution_count": 106,
     "metadata": {},
     "output_type": "execute_result"
    }
   ],
   "source": [
    "regr.coef_[0]"
   ]
  },
  {
   "cell_type": "code",
   "execution_count": 104,
   "metadata": {
    "cell_style": "split",
    "hidden": true
   },
   "outputs": [
    {
     "data": {
      "text/plain": [
       "0.76"
      ]
     },
     "execution_count": 104,
     "metadata": {},
     "output_type": "execute_result"
    }
   ],
   "source": [
    "r2"
   ]
  },
  {
   "cell_type": "markdown",
   "metadata": {
    "heading_collapsed": true
   },
   "source": [
    "### Regression of historical trust in gambling vs participation"
   ]
  },
  {
   "cell_type": "code",
   "execution_count": 74,
   "metadata": {
    "hidden": true
   },
   "outputs": [
    {
     "data": {
      "text/plain": [
       "LinearRegression()"
      ]
     },
     "execution_count": 74,
     "metadata": {},
     "output_type": "execute_result"
    }
   ],
   "source": [
    "regr = linear_model.LinearRegression()\n",
    "regr.fit(hist_df.loc[2009:]['trust gambling'].to_numpy().reshape(-1,1),(hist_df.loc[2009:]['gambling players']/hist_df.loc[2009:]['population']))"
   ]
  },
  {
   "cell_type": "code",
   "execution_count": 77,
   "metadata": {
    "hidden": true
   },
   "outputs": [],
   "source": [
    "participation_predict = regr.predict(hist_df.loc[2009:]['trust gambling'].to_numpy().reshape(-1,1))"
   ]
  },
  {
   "cell_type": "code",
   "execution_count": 80,
   "metadata": {
    "cell_style": "split",
    "hidden": true
   },
   "outputs": [
    {
     "data": {
      "image/png": "[encoded data removed]",
      "text/plain": [
       "<Figure size 432x288 with 1 Axes>"
      ]
     },
     "metadata": {
      "needs_background": "light"
     },
     "output_type": "display_data"
    }
   ],
   "source": [
    "sns.scatterplot(x=hist_df.loc[2009:]['trust gambling'],\n",
    "                y=(hist_df.loc[2009:]['gambling players']/hist_df.loc[2009:]['population']),\n",
    "                color=non_accent_dark)\n",
    "ax = sns.lineplot(x=hist_df.loc[2009:]['trust gambling'],\n",
    "             y=participation_predict,\n",
    "            color=accent)\n",
    "\n",
    "format_chart_axes(\"Disposable Income vs. GDP\",\n",
    "                  ax,\n",
    "                  x_label_scale=1000000,\n",
    "                  x_label_format='{:,.1%}',\n",
    "                  y_label_scale=1000000,\n",
    "                  y_label_format='{:,.1%}',\n",
    "                  color=axis_color)"
   ]
  },
  {
   "cell_type": "code",
   "execution_count": 85,
   "metadata": {
    "cell_style": "split",
    "hidden": true
   },
   "outputs": [
    {
     "data": {
      "text/plain": [
       "0.30607425709282937"
      ]
     },
     "execution_count": 85,
     "metadata": {},
     "output_type": "execute_result"
    }
   ],
   "source": [
    "intercept = humanize.intcomma(regr.intercept_,1)\n",
    "regr.intercept_"
   ]
  },
  {
   "cell_type": "code",
   "execution_count": 86,
   "metadata": {
    "cell_style": "split",
    "hidden": true
   },
   "outputs": [
    {
     "data": {
      "text/plain": [
       "0.5589693711039558"
      ]
     },
     "execution_count": 86,
     "metadata": {},
     "output_type": "execute_result"
    }
   ],
   "source": [
    "coefficient = humanize.intcomma(regr.coef_[0],2)\n",
    "regr.coef_[0]"
   ]
  },
  {
   "cell_type": "code",
   "execution_count": 87,
   "metadata": {
    "cell_style": "split",
    "hidden": true
   },
   "outputs": [
    {
     "data": {
      "text/plain": [
       "0.7377933826196552"
      ]
     },
     "execution_count": 87,
     "metadata": {},
     "output_type": "execute_result"
    }
   ],
   "source": [
    "regr.score(hist_df.loc[2009:]['trust gambling'].to_numpy().reshape(-1,1),(hist_df.loc[2009:]['gambling players']/hist_df.loc[2009:]['population']))"
   ]
  },
  {
   "cell_type": "code",
   "execution_count": null,
   "metadata": {
    "hidden": true
   },
   "outputs": [],
   "source": []
  },
  {
   "cell_type": "code",
   "execution_count": null,
   "metadata": {
    "hidden": true
   },
   "outputs": [],
   "source": []
  },
  {
   "cell_type": "markdown",
   "metadata": {
    "heading_collapsed": true
   },
   "source": [
    "### Historical behaviour: GDP YoY change"
   ]
  },
  {
   "cell_type": "code",
   "execution_count": 24,
   "metadata": {
    "hidden": true
   },
   "outputs": [],
   "source": [
    "used = np.random.normal(GDP_yoy_change_mean, GDP_yoy_change_stdev, 500)"
   ]
  },
  {
   "cell_type": "code",
   "execution_count": 26,
   "metadata": {
    "cell_style": "split",
    "hidden": true,
    "scrolled": true
   },
   "outputs": [
    {
     "data": {
      "image/png": "[encoded data removed]",
      "text/plain": [
       "<Figure size 432x288 with 1 Axes>"
      ]
     },
     "metadata": {
      "needs_background": "light"
     },
     "output_type": "display_data"
    }
   ],
   "source": [
    "ax = sns.kdeplot(np.random.normal(GDP_yoy_change_mean, GDP_yoy_change_stdev, 25000),\n",
    "                  color=accent)\n",
    "ax = sns.histplot(hist_df['GDP'].pct_change(),\n",
    "                  bins=15,\n",
    "                  color=non_accent_dark)\n",
    "format_chart_axes(\"GDP YoY change - Distribution 1956-2019\",\n",
    "                  ax,\n",
    "                  x_label_format='{:,.1%}',\n",
    "                  y_label_format='{:,.0f}',\n",
    "                  color=axis_color)"
   ]
  },
  {
   "cell_type": "code",
   "execution_count": 27,
   "metadata": {
    "cell_style": "split",
    "hidden": true
   },
   "outputs": [],
   "source": [
    "gdp_yoy_change_mean = '{:.2%}'.format(hist_df['GDP'].pct_change().mean())"
   ]
  },
  {
   "cell_type": "code",
   "execution_count": 28,
   "metadata": {
    "cell_style": "split",
    "hidden": true,
    "scrolled": true
   },
   "outputs": [],
   "source": [
    "gdp_yoy_change_stdev = '{:.2%}'.format(hist_df['GDP'].pct_change().std())"
   ]
  },
  {
   "cell_type": "markdown",
   "metadata": {
    "cell_style": "split",
    "hidden": true,
    "variables": {
     "gdp_yoy_change_mean": "2.44%",
     "gdp_yoy_change_stdev": "2.02%"
    }
   },
   "source": [
    "##### GDP YoY change historical behaviour (1956-2019)\n",
    "\n",
    "Average YoY GDP change {{gdp_yoy_change_mean}}\n",
    "\n",
    "Yoy GDP change Standard Deviation {{gdp_yoy_change_stdev}}"
   ]
  },
  {
   "cell_type": "markdown",
   "metadata": {
    "heading_collapsed": true
   },
   "source": [
    "### Historical behaviour: TNL share of disposable income YoY change"
   ]
  },
  {
   "cell_type": "code",
   "execution_count": 69,
   "metadata": {
    "hidden": true
   },
   "outputs": [],
   "source": [
    "tnl_shareDI = hist_df['TNL GGY']/hist_df['disposable income']\n",
    "tnl_shareDI_yoy_change_mean = tnl_shareDI.pct_change().mean()\n",
    "tnl_shareDI_yoy_change_stdev = tnl_shareDI.pct_change().std()\n"
   ]
  },
  {
   "cell_type": "code",
   "execution_count": 68,
   "metadata": {
    "hidden": true
   },
   "outputs": [
    {
     "data": {
      "text/plain": [
       "0.06419624024568973"
      ]
     },
     "execution_count": 68,
     "metadata": {},
     "output_type": "execute_result"
    }
   ],
   "source": [
    "tnl_shareDI_yoy_change_stdev"
   ]
  },
  {
   "cell_type": "markdown",
   "metadata": {
    "heading_collapsed": true
   },
   "source": [
    "### Historical behaviour: Population YoY change"
   ]
  },
  {
   "cell_type": "code",
   "execution_count": 31,
   "metadata": {
    "hidden": true
   },
   "outputs": [
    {
     "data": {
      "image/png": "[encoded data removed]",
      "text/plain": [
       "<Figure size 432x288 with 1 Axes>"
      ]
     },
     "metadata": {
      "needs_background": "light"
     },
     "output_type": "display_data"
    }
   ],
   "source": [
    "ax = sns.histplot(hist_df['population'].pct_change(),\n",
    "                  bins=15,\n",
    "                  color=non_accent_dark)\n",
    "format_chart_axes(\"UK Population YoY change - Distribution 1971-2019\",\n",
    "                  ax,\n",
    "                  x_label_format='{:,.1%}',\n",
    "                  y_label_format='{:,.0f}',\n",
    "                  color=axis_color)"
   ]
  },
  {
   "cell_type": "code",
   "execution_count": 32,
   "metadata": {
    "hidden": true
   },
   "outputs": [
    {
     "data": {
      "text/plain": [
       "0.003710395926661239"
      ]
     },
     "execution_count": 32,
     "metadata": {},
     "output_type": "execute_result"
    }
   ],
   "source": [
    "hist_df['population'].pct_change().mean()"
   ]
  },
  {
   "cell_type": "code",
   "execution_count": 33,
   "metadata": {
    "hidden": true
   },
   "outputs": [
    {
     "data": {
      "text/plain": [
       "0.00277374704172441"
      ]
     },
     "execution_count": 33,
     "metadata": {},
     "output_type": "execute_result"
    }
   ],
   "source": [
    "hist_df['population'].pct_change().std()"
   ]
  },
  {
   "cell_type": "markdown",
   "metadata": {},
   "source": [
    "### Historical behaviour trust in gamblinf YoY change"
   ]
  },
  {
   "cell_type": "code",
   "execution_count": 58,
   "metadata": {},
   "outputs": [
    {
     "data": {
      "image/png": "[encoded data removed]",
      "text/plain": [
       "<Figure size 432x288 with 1 Axes>"
      ]
     },
     "metadata": {
      "needs_background": "light"
     },
     "output_type": "display_data"
    }
   ],
   "source": [
    "ax = sns.histplot(hist_df['trust gambling'].pct_change(),\n",
    "                  bins=6,\n",
    "                  color=non_accent_dark)\n",
    "format_chart_axes(\"Trust in gambling YoY change - Distribution 2010-2019\",\n",
    "                  ax,\n",
    "                  x_label_format='{:,.1%}',\n",
    "                  y_label_format='{:,.0f}',\n",
    "                  color=axis_color)"
   ]
  },
  {
   "cell_type": "code",
   "execution_count": 60,
   "metadata": {},
   "outputs": [
    {
     "data": {
      "text/plain": [
       "-0.05164731382916463"
      ]
     },
     "execution_count": 60,
     "metadata": {},
     "output_type": "execute_result"
    }
   ],
   "source": [
    "hist_df['trust gambling'].pct_change().mean()"
   ]
  },
  {
   "cell_type": "code",
   "execution_count": 59,
   "metadata": {},
   "outputs": [
    {
     "data": {
      "text/plain": [
       "0.0531155458747519"
      ]
     },
     "execution_count": 59,
     "metadata": {},
     "output_type": "execute_result"
    }
   ],
   "source": [
    "hist_df['trust gambling'].pct_change().std()"
   ]
  },
  {
   "cell_type": "markdown",
   "metadata": {},
   "source": [
    "### Historical Behaviour: TNL market share YoY change"
   ]
  },
  {
   "cell_type": "code",
   "execution_count": 112,
   "metadata": {},
   "outputs": [],
   "source": [
    "tnl_share = hist_df['TNL GGY'] / hist_df['gambling GGY']"
   ]
  },
  {
   "cell_type": "code",
   "execution_count": 113,
   "metadata": {},
   "outputs": [
    {
     "data": {
      "text/plain": [
       "0.008682024533135794"
      ]
     },
     "execution_count": 113,
     "metadata": {},
     "output_type": "execute_result"
    }
   ],
   "source": [
    "tnl_share.pct_change().mean()"
   ]
  },
  {
   "cell_type": "code",
   "execution_count": 114,
   "metadata": {},
   "outputs": [
    {
     "data": {
      "text/plain": [
       "0.10145771199583832"
      ]
     },
     "execution_count": 114,
     "metadata": {},
     "output_type": "execute_result"
    }
   ],
   "source": [
    "tnl_share.pct_change().std()"
   ]
  },
  {
   "cell_type": "code",
   "execution_count": null,
   "metadata": {},
   "outputs": [],
   "source": []
  },
  {
   "cell_type": "code",
   "execution_count": null,
   "metadata": {},
   "outputs": [],
   "source": []
  },
  {
   "cell_type": "code",
   "execution_count": null,
   "metadata": {},
   "outputs": [],
   "source": []
  },
  {
   "cell_type": "markdown",
   "metadata": {},
   "source": [
    "### Test"
   ]
  },
  {
   "cell_type": "code",
   "execution_count": 79,
   "metadata": {},
   "outputs": [
    {
     "data": {
      "text/plain": [
       "<AxesSubplot:xlabel='TNL GGY'>"
      ]
     },
     "execution_count": 79,
     "metadata": {},
     "output_type": "execute_result"
    },
    {
     "data": {
      "image/png": "[encoded data removed]",
      "text/plain": [
       "<Figure size 432x288 with 1 Axes>"
      ]
     },
     "metadata": {
      "needs_background": "light"
     },
     "output_type": "display_data"
    }
   ],
   "source": [
    "sns.boxplot(x=projections_df.loc[2028]['TNL GGY'],color=non_accent_medium)"
   ]
  },
  {
   "cell_type": "code",
   "execution_count": 127,
   "metadata": {},
   "outputs": [
    {
     "data": {
      "text/plain": [
       "[Text(0.5, 0, '')]"
      ]
     },
     "execution_count": 127,
     "metadata": {},
     "output_type": "execute_result"
    },
    {
     "data": {
      "image/png": "[encoded data removed]",
      "text/plain": [
       "<Figure size 432x288 with 4 Axes>"
      ]
     },
     "metadata": {
      "needs_background": "light"
     },
     "output_type": "display_data"
    }
   ],
   "source": [
    "#Cut the window in 2 parts\n",
    "f, (ax_hist1, ax_box1, ax_box2, ax_hist2) = plt.subplots(4, sharex=True, gridspec_kw={\"height_ratios\": (.85, .15, .15, .85)})\n",
    " \n",
    "# Add a graph in each part\n",
    "sns.boxplot(x=projections_m1_df.loc[2028]['TNL GGY'],color=non_accent_medium, ax=ax_box1)\n",
    "sns.histplot(x=projections_m1_df.loc[2028]['TNL GGY'],color=non_accent_medium, ax=ax_hist1)\n",
    "sns.boxplot(x=projections_df.loc[2028]['TNL GGY'],color=non_accent_medium, ax=ax_box2)\n",
    "sns.histplot(x=projections_df.loc[2028]['TNL GGY'],color=non_accent_medium, ax=ax_hist2)\n",
    "\n",
    "\n",
    "# Remove x axis name for the boxplot\n",
    "ax_box1.set(xlabel='')\n",
    "ax_box2.set(xlabel='')"
   ]
  },
  {
   "cell_type": "code",
   "execution_count": null,
   "metadata": {},
   "outputs": [],
   "source": [
    "projections_df.loc[2028]['TNL GGY'].describe()"
   ]
  },
  {
   "cell_type": "markdown",
   "metadata": {},
   "source": [
    "count     750.000000\n",
    "mean     4138.199088\n",
    "std       829.323633\n",
    "min      2209.756714\n",
    "25%      3525.595487\n",
    "50%      4087.380672\n",
    "75%      4669.786221\n",
    "max      7069.350202\n",
    "Name: TNL GGY, dtype: float64"
   ]
  },
  {
   "cell_type": "code",
   "execution_count": null,
   "metadata": {},
   "outputs": [],
   "source": []
  }
 ],
 "metadata": {
  "hide_input": false,
  "kernelspec": {
   "display_name": "Python 3",
   "language": "python",
   "name": "python3"
  },
  "language_info": {
   "codemirror_mode": {
    "name": "ipython",
    "version": 3
   },
   "file_extension": ".py",
   "mimetype": "text/x-python",
   "name": "python",
   "nbconvert_exporter": "python",
   "pygments_lexer": "ipython3",
   "version": "3.7.3"
  }
 },
 "nbformat": 4,
 "nbformat_minor": 4
}

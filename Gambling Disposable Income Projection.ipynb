{
 "cells": [
  {
   "cell_type": "code",
   "execution_count": 1,
   "metadata": {},
   "outputs": [],
   "source": [
    "import pandas as pd\n",
    "import numpy as np\n",
    "\n",
    "from sklearn import linear_model\n",
    "from sklearn.metrics import mean_squared_error, r2_score\n",
    "\n",
    "from matplotlib import pyplot as plt\n",
    "import seaborn as sns\n",
    "\n",
    "sns.set_style('white')\n",
    "%matplotlib inline"
   ]
  },
  {
   "cell_type": "code",
   "execution_count": 71,
   "metadata": {},
   "outputs": [],
   "source": [
    "axis_color = \"0.4\"\n",
    "non_accent_light = \"#dbdbdb\"\n",
    "non_accent_dark = \"#cccccc\"\n",
    "non_accent_dark = \"#bdbdbd\"\n",
    "accent = \"#4599ff\"\n",
    "palette = sns.color_palette([non_accent,accent])"
   ]
  },
  {
   "cell_type": "code",
   "execution_count": 81,
   "metadata": {},
   "outputs": [],
   "source": [
    "def format_line_chart(title,axes,x_label_format='{:,.1f}',x_label_scale=1,y_label_format='{:,.1f}',y_label_scale=1,color=\"black\"):\n",
    "    plt.title(title,y=1.05, color=color)\n",
    "\n",
    "    axes.set_xticks(axes.get_xticks().tolist()) # REMOVE IN THE FUTURE - PLACED TO AVOID WARNING - IT IS A BUG FROM MATPLOTLIB 3.3.1\n",
    "    axes.set_xticklabels([x_label_format.format(x) for x in (axes.get_xticks()/x_label_scale).tolist()])\n",
    "    \n",
    "    axes.set_yticks(axes.get_yticks().tolist()) # REMOVE IN THE FUTURE - PLACED TO AVOID WARNING - IT IS A BUG FROM MATPLOTLIB 3.3.1\n",
    "    axes.set_yticklabels([y_label_format.format(x) for x in (axes.get_yticks()/y_label_scale).tolist()])\n",
    "\n",
    "    axes.spines['bottom'].set_color(color)\n",
    "    axes.xaxis.label.set_color(color)\n",
    "    axes.tick_params(axis='x', colors=color)\n",
    "\n",
    "    axes.spines['left'].set_color(color)\n",
    "    axes.yaxis.label.set_color(color)\n",
    "    axes.tick_params(axis='y', colors=color)\n",
    "\n",
    "    sns.despine()    "
   ]
  },
  {
   "cell_type": "markdown",
   "metadata": {},
   "source": [
    "## Data processing"
   ]
  },
  {
   "cell_type": "code",
   "execution_count": 85,
   "metadata": {},
   "outputs": [],
   "source": [
    "econ_df = pd.DataFrame()"
   ]
  },
  {
   "cell_type": "code",
   "execution_count": 86,
   "metadata": {},
   "outputs": [],
   "source": [
    "temp = pd.read_csv('./data/ABMI-290920.csv')\n",
    "\n",
    "temp = temp[temp['Title'].str.isnumeric()]\n",
    "\n",
    "temp.columns = ['year','GDP']\n",
    "\n",
    "temp['GDP'] = pd.to_numeric(temp['GDP'])\n",
    "temp['year'] = pd.to_numeric(temp['year'])\n",
    "#temp['GDP growth'] = temp['GDP'].pct_change()\n",
    "\n",
    "temp.index = temp['year']\n",
    "temp = temp.drop('year',axis=1)\n",
    "\n",
    "econ_df = pd.concat([econ_df,temp],join='outer',axis=1)"
   ]
  },
  {
   "cell_type": "code",
   "execution_count": 87,
   "metadata": {},
   "outputs": [],
   "source": [
    "temp = pd.read_csv('./data/QWND-290920.csv')\n",
    "\n",
    "temp = temp[temp['Title'].str.isnumeric()]\n",
    "\n",
    "temp.columns = ['year','disposable income']\n",
    "\n",
    "temp['disposable income'] = pd.to_numeric(temp['disposable income'])\n",
    "temp['year'] = pd.to_numeric(temp['year'])\n",
    "#temp['disposable income growth'] = temp['disposable income'].pct_change()\n",
    "\n",
    "temp.index = temp['year']\n",
    "temp = temp.drop('year',axis=1)\n",
    "\n",
    "econ_df = pd.concat([econ_df,temp],join='outer',axis=1)"
   ]
  },
  {
   "cell_type": "code",
   "execution_count": 89,
   "metadata": {},
   "outputs": [],
   "source": [
    "hist_df = econ_df"
   ]
  },
  {
   "cell_type": "markdown",
   "metadata": {
    "cell_style": "center"
   },
   "source": [
    "## Monte Carlo Simulation"
   ]
  },
  {
   "cell_type": "code",
   "execution_count": 91,
   "metadata": {},
   "outputs": [],
   "source": [
    "iterations = 750\n",
    "years_to_project = 10"
   ]
  },
  {
   "cell_type": "code",
   "execution_count": 90,
   "metadata": {},
   "outputs": [],
   "source": [
    "initial_year = 2020\n",
    "initial_GDP = hist_df.loc[initial_year-1]['GDP']"
   ]
  },
  {
   "cell_type": "code",
   "execution_count": 99,
   "metadata": {},
   "outputs": [],
   "source": [
    "GDP_mean = 0.024383720592148272        #Historical average of YoY growth in the period from 1956 to 2019\n",
    "GDP_std_dev = 0.020191051459338794     #Historical stdev of YoY growth in the period from 1956 to 2019"
   ]
  },
  {
   "cell_type": "code",
   "execution_count": null,
   "metadata": {},
   "outputs": [],
   "source": []
  },
  {
   "cell_type": "markdown",
   "metadata": {},
   "source": [
    "## Sandbox"
   ]
  },
  {
   "cell_type": "markdown",
   "metadata": {
    "heading_collapsed": true
   },
   "source": [
    "### Tutorial example of a regression model using scikit-learn"
   ]
  },
  {
   "cell_type": "code",
   "execution_count": 13,
   "metadata": {
    "hidden": true
   },
   "outputs": [],
   "source": [
    "from sklearn import datasets, linear_model\n",
    "from sklearn.metrics import mean_squared_error, r2_score"
   ]
  },
  {
   "cell_type": "code",
   "execution_count": 14,
   "metadata": {
    "hidden": true
   },
   "outputs": [],
   "source": [
    "diabetes_X, diabetes_y = datasets.load_diabetes(return_X_y=True)\n",
    "diabetes_X = diabetes_X[:, np.newaxis, 2]"
   ]
  },
  {
   "cell_type": "code",
   "execution_count": 32,
   "metadata": {
    "hidden": true
   },
   "outputs": [],
   "source": [
    "diabetes_X_train = diabetes_X[:-20]\n",
    "diabetes_X_test = diabetes_X[-20:]\n",
    "diabetes_y_train = diabetes_y[:-20]\n",
    "diabetes_y_test = diabetes_y[-20:]"
   ]
  },
  {
   "cell_type": "code",
   "execution_count": 35,
   "metadata": {
    "hidden": true
   },
   "outputs": [],
   "source": [
    "regr = linear_model.LinearRegression()"
   ]
  },
  {
   "cell_type": "code",
   "execution_count": 43,
   "metadata": {
    "hidden": true
   },
   "outputs": [
    {
     "data": {
      "text/plain": [
       "LinearRegression()"
      ]
     },
     "execution_count": 43,
     "metadata": {},
     "output_type": "execute_result"
    }
   ],
   "source": [
    "regr.fit(diabetes_X_train,diabetes_y_train)"
   ]
  },
  {
   "cell_type": "code",
   "execution_count": 44,
   "metadata": {
    "hidden": true
   },
   "outputs": [],
   "source": [
    "diabetes_y_predict = regr.predict(diabetes_X_test)"
   ]
  },
  {
   "cell_type": "code",
   "execution_count": 45,
   "metadata": {
    "hidden": true
   },
   "outputs": [
    {
     "data": {
      "text/plain": [
       "array([938.23786125])"
      ]
     },
     "execution_count": 45,
     "metadata": {},
     "output_type": "execute_result"
    }
   ],
   "source": [
    "regr.coef_"
   ]
  },
  {
   "cell_type": "code",
   "execution_count": 46,
   "metadata": {
    "cell_style": "split",
    "hidden": true
   },
   "outputs": [
    {
     "data": {
      "text/plain": [
       "2548.0723987259694"
      ]
     },
     "execution_count": 46,
     "metadata": {},
     "output_type": "execute_result"
    }
   ],
   "source": [
    "mean_squared_error(diabetes_y_test,diabetes_y_predict)"
   ]
  },
  {
   "cell_type": "code",
   "execution_count": 47,
   "metadata": {
    "cell_style": "split",
    "hidden": true
   },
   "outputs": [
    {
     "data": {
      "text/plain": [
       "0.47257544798227147"
      ]
     },
     "execution_count": 47,
     "metadata": {},
     "output_type": "execute_result"
    }
   ],
   "source": [
    "r2_score(diabetes_y_test,diabetes_y_predict)"
   ]
  },
  {
   "cell_type": "code",
   "execution_count": 49,
   "metadata": {
    "hidden": true
   },
   "outputs": [
    {
     "data": {
      "text/plain": [
       "[<matplotlib.lines.Line2D at 0x7f33548bba58>]"
      ]
     },
     "execution_count": 49,
     "metadata": {},
     "output_type": "execute_result"
    },
    {
     "data": {
      "image/png": "[encoded data removed]",
      "text/plain": [
       "<Figure size 432x288 with 1 Axes>"
      ]
     },
     "metadata": {
      "needs_background": "light"
     },
     "output_type": "display_data"
    }
   ],
   "source": [
    "plt.scatter(diabetes_X_test, diabetes_y_test,  color='black')\n",
    "plt.plot(diabetes_X_test, diabetes_y_predict, color='blue', linewidth=3)"
   ]
  },
  {
   "cell_type": "markdown",
   "metadata": {},
   "source": [
    "### Regression of historical GDP vs Disposable Income"
   ]
  },
  {
   "cell_type": "code",
   "execution_count": 5,
   "metadata": {},
   "outputs": [],
   "source": [
    "regr = linear_model.LinearRegression()"
   ]
  },
  {
   "cell_type": "code",
   "execution_count": 6,
   "metadata": {},
   "outputs": [
    {
     "data": {
      "text/plain": [
       "LinearRegression()"
      ]
     },
     "execution_count": 6,
     "metadata": {},
     "output_type": "execute_result"
    }
   ],
   "source": [
    "regr.fit(econ_df['GDP'].to_numpy().reshape(-1,1),econ_df['disposable income'])"
   ]
  },
  {
   "cell_type": "code",
   "execution_count": 7,
   "metadata": {},
   "outputs": [],
   "source": [
    "disp_income_predict = regr.predict(econ_df['GDP'].to_numpy().reshape(-1,1))"
   ]
  },
  {
   "cell_type": "code",
   "execution_count": 82,
   "metadata": {
    "cell_style": "split"
   },
   "outputs": [
    {
     "data": {
      "image/png": "[encoded data removed]",
      "text/plain": [
       "<Figure size 432x288 with 1 Axes>"
      ]
     },
     "metadata": {
      "needs_background": "light"
     },
     "output_type": "display_data"
    }
   ],
   "source": [
    "#plt.scatter(econ_df['GDP'].to_numpy().reshape(-1,1),econ_df['disposable income'],color='black')\n",
    "#plt.plot(econ_df['GDP'].to_numpy().reshape(-1,1), disp_income_predict, color='blue', linewidth=3)\n",
    "\n",
    "sns.scatterplot(x=econ_df['GDP'],\n",
    "                y=econ_df['disposable income'],\n",
    "                color=non_accent_dark)\n",
    "ax = sns.lineplot(x=econ_df['GDP'],\n",
    "             y=disp_income_predict,\n",
    "            color=accent)\n",
    "\n",
    "format_line_chart(\"Disposable Income vs. GDP\",\n",
    "                  ax,\n",
    "                  x_label_scale=1000000,\n",
    "                  x_label_format='{:,.1f}tn',\n",
    "                  y_label_scale=1000000,\n",
    "                  y_label_format='{:,.1f}tn',\n",
    "                  color=axis_color)"
   ]
  },
  {
   "cell_type": "code",
   "execution_count": 54,
   "metadata": {
    "cell_style": "split"
   },
   "outputs": [],
   "source": [
    "r2 = round(r2_score(econ_df['disposable income'],disp_income_predict),2)\n",
    "intercept = humanize.intcomma(regr.intercept_,1)\n",
    "coefficient = humanize.intcomma(regr.coef_[0],2)"
   ]
  },
  {
   "cell_type": "markdown",
   "metadata": {
    "cell_style": "split",
    "variables": {
     "coefficient": "0.91",
     "intercept": "-575,967.8",
     "r2": "0.97"
    }
   },
   "source": [
    "##### Disposable Income vs GDP\n",
    "\n",
    "Disposable Income = {{intercept}} + {{coefficient}} * GDP\n",
    "\n",
    "The regression has an R2 of {{r2}} "
   ]
  },
  {
   "cell_type": "markdown",
   "metadata": {},
   "source": [
    "### Historical behaviour: GDP YoY change"
   ]
  },
  {
   "cell_type": "code",
   "execution_count": 120,
   "metadata": {},
   "outputs": [],
   "source": [
    "used = np.random.normal(GDP_mean, GDP_std_dev, 500)"
   ]
  },
  {
   "cell_type": "code",
   "execution_count": 131,
   "metadata": {
    "cell_style": "split"
   },
   "outputs": [
    {
     "data": {
      "image/png": "[encoded data removed]",
      "text/plain": [
       "<Figure size 432x288 with 1 Axes>"
      ]
     },
     "metadata": {
      "needs_background": "light"
     },
     "output_type": "display_data"
    }
   ],
   "source": [
    "ax = sns.kdeplot(np.random.normal(GDP_mean, GDP_std_dev, 5000),\n",
    "                  color=accent)\n",
    "ax = sns.histplot(hist_df['GDP'].pct_change(),\n",
    "                  bins=15,\n",
    "                  color=non_accent_dark)\n",
    "format_line_chart(\"GDP YoY change - Distribution 1956-2019\",\n",
    "                  ax,\n",
    "                  x_label_format='{:,.1%}',\n",
    "                  y_label_format='{:,.0f}',\n",
    "                  color=axis_color)"
   ]
  },
  {
   "cell_type": "code",
   "execution_count": 114,
   "metadata": {
    "cell_style": "split"
   },
   "outputs": [],
   "source": [
    "gdp_yoy_change_mean = '{:.2%}'.format(hist_df['GDP'].pct_change().mean())"
   ]
  },
  {
   "cell_type": "code",
   "execution_count": 116,
   "metadata": {
    "cell_style": "split",
    "scrolled": true
   },
   "outputs": [],
   "source": [
    "gdp_yoy_change_stdev = '{:.2%}'.format(hist_df['GDP'].pct_change().std())"
   ]
  },
  {
   "cell_type": "markdown",
   "metadata": {
    "cell_style": "split",
    "variables": {
     "gdp_yoy_change_mean": "2.44%",
     "gdp_yoy_change_stdev": "2.02%"
    }
   },
   "source": [
    "##### GDP YoY change historical behaviour (1956-2019)\n",
    "\n",
    "Average YoY GDP change {{gdp_yoy_change_mean}}\n",
    "\n",
    "Yoy GDP change Standard Deviation {{gdp_yoy_change_stdev}}"
   ]
  },
  {
   "cell_type": "code",
   "execution_count": null,
   "metadata": {},
   "outputs": [],
   "source": []
  },
  {
   "cell_type": "code",
   "execution_count": null,
   "metadata": {},
   "outputs": [],
   "source": []
  },
  {
   "cell_type": "code",
   "execution_count": null,
   "metadata": {},
   "outputs": [],
   "source": []
  },
  {
   "cell_type": "code",
   "execution_count": null,
   "metadata": {},
   "outputs": [],
   "source": []
  }
 ],
 "metadata": {
  "hide_input": false,
  "kernelspec": {
   "display_name": "Python 3",
   "language": "python",
   "name": "python3"
  },
  "language_info": {
   "codemirror_mode": {
    "name": "ipython",
    "version": 3
   },
   "file_extension": ".py",
   "mimetype": "text/x-python",
   "name": "python",
   "nbconvert_exporter": "python",
   "pygments_lexer": "ipython3",
   "version": "3.7.3"
  }
 },
 "nbformat": 4,
 "nbformat_minor": 4
}
